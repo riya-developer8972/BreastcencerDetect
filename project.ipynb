{
 "cells": [
  {
   "cell_type": "code",
   "execution_count": 2,
   "id": "7d600305-97f1-4f63-ad41-53f2c6897dcf",
   "metadata": {},
   "outputs": [],
   "source": [
    "import os, re\n",
    "import pandas as pd\n",
    "import numpy as np\n",
    "import matplotlib.pyplot as plt"
   ]
  },
  {
   "cell_type": "code",
   "execution_count": 3,
   "id": "926854ee-1284-4906-8feb-4fa0590cdfe4",
   "metadata": {},
   "outputs": [
    {
     "data": {
      "text/html": [
       "<div>\n",
       "<style scoped>\n",
       "    .dataframe tbody tr th:only-of-type {\n",
       "        vertical-align: middle;\n",
       "    }\n",
       "\n",
       "    .dataframe tbody tr th {\n",
       "        vertical-align: top;\n",
       "    }\n",
       "\n",
       "    .dataframe thead th {\n",
       "        text-align: right;\n",
       "    }\n",
       "</style>\n",
       "<table border=\"1\" class=\"dataframe\">\n",
       "  <thead>\n",
       "    <tr style=\"text-align: right;\">\n",
       "      <th></th>\n",
       "      <th>radius_mean</th>\n",
       "      <th>texture_mean</th>\n",
       "      <th>perimeter_mean</th>\n",
       "      <th>area_mean</th>\n",
       "      <th>smoothness_mean</th>\n",
       "      <th>compactness_mean</th>\n",
       "      <th>concavity_mean</th>\n",
       "      <th>concave points_mean</th>\n",
       "      <th>symmetry_mean</th>\n",
       "      <th>fractal_dimension_mean</th>\n",
       "      <th>...</th>\n",
       "      <th>texture_worst</th>\n",
       "      <th>perimeter_worst</th>\n",
       "      <th>area_worst</th>\n",
       "      <th>smoothness_worst</th>\n",
       "      <th>compactness_worst</th>\n",
       "      <th>concavity_worst</th>\n",
       "      <th>concave points_worst</th>\n",
       "      <th>symmetry_worst</th>\n",
       "      <th>fractal_dimension_worst</th>\n",
       "      <th>diagnosis</th>\n",
       "    </tr>\n",
       "  </thead>\n",
       "  <tbody>\n",
       "    <tr>\n",
       "      <th>0</th>\n",
       "      <td>17.99</td>\n",
       "      <td>10.38</td>\n",
       "      <td>122.8</td>\n",
       "      <td>1001.0</td>\n",
       "      <td>0.11840</td>\n",
       "      <td>0.27760</td>\n",
       "      <td>0.3001</td>\n",
       "      <td>0.14710</td>\n",
       "      <td>0.2419</td>\n",
       "      <td>0.07871</td>\n",
       "      <td>...</td>\n",
       "      <td>17.33</td>\n",
       "      <td>184.6</td>\n",
       "      <td>2019.0</td>\n",
       "      <td>0.1622</td>\n",
       "      <td>0.6656</td>\n",
       "      <td>0.7119</td>\n",
       "      <td>0.2654</td>\n",
       "      <td>0.4601</td>\n",
       "      <td>0.11890</td>\n",
       "      <td>1</td>\n",
       "    </tr>\n",
       "    <tr>\n",
       "      <th>1</th>\n",
       "      <td>20.57</td>\n",
       "      <td>17.77</td>\n",
       "      <td>132.9</td>\n",
       "      <td>1326.0</td>\n",
       "      <td>0.08474</td>\n",
       "      <td>0.07864</td>\n",
       "      <td>0.0869</td>\n",
       "      <td>0.07017</td>\n",
       "      <td>0.1812</td>\n",
       "      <td>0.05667</td>\n",
       "      <td>...</td>\n",
       "      <td>23.41</td>\n",
       "      <td>158.8</td>\n",
       "      <td>1956.0</td>\n",
       "      <td>0.1238</td>\n",
       "      <td>0.1866</td>\n",
       "      <td>0.2416</td>\n",
       "      <td>0.1860</td>\n",
       "      <td>0.2750</td>\n",
       "      <td>0.08902</td>\n",
       "      <td>1</td>\n",
       "    </tr>\n",
       "    <tr>\n",
       "      <th>2</th>\n",
       "      <td>19.69</td>\n",
       "      <td>21.25</td>\n",
       "      <td>130.0</td>\n",
       "      <td>1203.0</td>\n",
       "      <td>0.10960</td>\n",
       "      <td>0.15990</td>\n",
       "      <td>0.1974</td>\n",
       "      <td>0.12790</td>\n",
       "      <td>0.2069</td>\n",
       "      <td>0.05999</td>\n",
       "      <td>...</td>\n",
       "      <td>25.53</td>\n",
       "      <td>152.5</td>\n",
       "      <td>1709.0</td>\n",
       "      <td>0.1444</td>\n",
       "      <td>0.4245</td>\n",
       "      <td>0.4504</td>\n",
       "      <td>0.2430</td>\n",
       "      <td>0.3613</td>\n",
       "      <td>0.08758</td>\n",
       "      <td>1</td>\n",
       "    </tr>\n",
       "  </tbody>\n",
       "</table>\n",
       "<p>3 rows × 31 columns</p>\n",
       "</div>"
      ],
      "text/plain": [
       "   radius_mean  texture_mean  perimeter_mean  area_mean  smoothness_mean  \\\n",
       "0        17.99         10.38           122.8     1001.0          0.11840   \n",
       "1        20.57         17.77           132.9     1326.0          0.08474   \n",
       "2        19.69         21.25           130.0     1203.0          0.10960   \n",
       "\n",
       "   compactness_mean  concavity_mean  concave points_mean  symmetry_mean  \\\n",
       "0           0.27760          0.3001              0.14710         0.2419   \n",
       "1           0.07864          0.0869              0.07017         0.1812   \n",
       "2           0.15990          0.1974              0.12790         0.2069   \n",
       "\n",
       "   fractal_dimension_mean  ...  texture_worst  perimeter_worst  area_worst  \\\n",
       "0                 0.07871  ...          17.33            184.6      2019.0   \n",
       "1                 0.05667  ...          23.41            158.8      1956.0   \n",
       "2                 0.05999  ...          25.53            152.5      1709.0   \n",
       "\n",
       "   smoothness_worst  compactness_worst  concavity_worst  concave points_worst  \\\n",
       "0            0.1622             0.6656           0.7119                0.2654   \n",
       "1            0.1238             0.1866           0.2416                0.1860   \n",
       "2            0.1444             0.4245           0.4504                0.2430   \n",
       "\n",
       "   symmetry_worst  fractal_dimension_worst  diagnosis  \n",
       "0          0.4601                  0.11890          1  \n",
       "1          0.2750                  0.08902          1  \n",
       "2          0.3613                  0.08758          1  \n",
       "\n",
       "[3 rows x 31 columns]"
      ]
     },
     "execution_count": 3,
     "metadata": {},
     "output_type": "execute_result"
    }
   ],
   "source": [
    "dataset=pd.read_csv(r\"C:\\Users\\RIYA BANERJEE\\Desktop\\pythonfile\\python.py\\finalyearproject\\breast_cancer_2000.csv\")\n",
    "dataset.head(3)"
   ]
  },
  {
   "cell_type": "code",
   "execution_count": 4,
   "id": "5d701f15-bf1f-4504-bb10-65db812a9a4c",
   "metadata": {},
   "outputs": [
    {
     "data": {
      "text/plain": [
       "(2000, 31)"
      ]
     },
     "execution_count": 4,
     "metadata": {},
     "output_type": "execute_result"
    }
   ],
   "source": [
    "dataset.shape"
   ]
  },
  {
   "cell_type": "code",
   "execution_count": 5,
   "id": "1c6083b9-2587-4799-8bd0-d935c853b902",
   "metadata": {},
   "outputs": [],
   "source": [
    "from sklearn.model_selection import train_test_split\n",
    "from sklearn.compose import ColumnTransformer\n",
    "from sklearn.pipeline import Pipeline\n",
    "from sklearn.preprocessing import StandardScaler, MinMaxScaler, OneHotEncoder, Binarizer\n",
    "from sklearn.impute import SimpleImputer"
   ]
  },
  {
   "cell_type": "code",
   "execution_count": 7,
   "id": "f736afbe-896a-4544-9c33-50b0332183fa",
   "metadata": {},
   "outputs": [
    {
     "name": "stdout",
     "output_type": "stream",
     "text": [
      "X shape: (2000, 10) y distribution:\n",
      " diagnosis\n",
      "1    1000\n",
      "0    1000\n",
      "Name: count, dtype: int64\n"
     ]
    }
   ],
   "source": [
    "# auto-detect or set the target column\n",
    "if 'diagnosis' in dataset.columns:\n",
    "    target_col = 'diagnosis'\n",
    "else:\n",
    "    # fallback: pick last column (adjust if needed)\n",
    "    target_col = dataset.columns[-1]\n",
    "    print(\"Using\", target_col, \"as target\")\n",
    "\n",
    "# map common labels to 0/1: 1 = malignant/positive, 0 = benign/negative\n",
    "y_raw = dataset[target_col].astype(str).str.strip().str.lower()\n",
    "\n",
    "# common mappings\n",
    "if set(y_raw.unique()) <= set(['m','b']):\n",
    "    y = y_raw.map({'m':1,'b':0}).astype(int)\n",
    "elif set(y_raw.unique()) <= set(['malignant','benign']):\n",
    "    y = y_raw.map({'malignant':1,'benign':0}).astype(int)\n",
    "elif set(y_raw.unique()) <= set(['1','0']):\n",
    "    y = y_raw.astype(int)\n",
    "else:\n",
    "    # generic: factorize then map the larger-risk class to 1 (the minority)\n",
    "    codes, uniques = pd.factorize(y_raw)\n",
    "    if len(uniques) == 2:\n",
    "        # map second unique to 1 by default\n",
    "        mapping = {uniques[0]:0, uniques[1]:1}\n",
    "        y = pd.Series([mapping[val] for val in y_raw]).astype(int)\n",
    "    else:\n",
    "        raise ValueError(\"Target has >2 classes or unexpected labels. Edit mapping manually.\")\n",
    "\n",
    "# drop ID-like columns (if any) but keep the target\n",
    "drop_cols = [c for c in dataset.columns if re.search(r'id|patient|index', c, re.I) and c != target_col]\n",
    "# Automatically select first 10 features (excluding target)\n",
    "X = dataset.drop(columns=[target_col]).iloc[:, :10]\n",
    "y = dataset[target_col]\n",
    "\n",
    "print(\"X shape:\", X.shape, \"y distribution:\\n\", y.value_counts())\n"
   ]
  },
  {
   "cell_type": "code",
   "execution_count": 8,
   "id": "750c52bf-8d2c-4adf-b2b2-69772379674c",
   "metadata": {},
   "outputs": [
    {
     "name": "stdout",
     "output_type": "stream",
     "text": [
      "Train: (1600, 10) Test: (400, 10)\n"
     ]
    }
   ],
   "source": [
    "X_train, X_test, y_train, y_test = train_test_split(\n",
    "    X, y, test_size=0.2, random_state=42, stratify=y\n",
    ")\n",
    "print(\"Train:\", X_train.shape, \"Test:\", X_test.shape)\n"
   ]
  },
  {
   "cell_type": "code",
   "execution_count": 9,
   "id": "374a93a0-1699-4cc8-99ff-1aea5cc43da0",
   "metadata": {},
   "outputs": [],
   "source": [
    "numeric_cols = X.select_dtypes(include=[np.number]).columns.tolist()\n",
    "categorical_cols = [c for c in X.columns if c not in numeric_cols]\n",
    "\n",
    "# Standard preprocessor: median imputation + StandardScaler (for LR, KNN, SVM, GaussianNB)\n",
    "preprocessor_std = ColumnTransformer(transformers=[\n",
    "    (\"num\", Pipeline([(\"imputer\", SimpleImputer(strategy=\"median\")), (\"scaler\", StandardScaler())]), numeric_cols),\n",
    "    (\"cat\", Pipeline([(\"imputer\", SimpleImputer(strategy=\"most_frequent\")), (\"onehot\", OneHotEncoder(handle_unknown=\"ignore\"))]), categorical_cols),\n",
    "])\n",
    "\n",
    "# Non-negative preprocessor: MinMax scaling to [0,1] (for MultinomialNB / BernoulliNB)\n",
    "preprocessor_nonneg = ColumnTransformer(transformers=[\n",
    "    (\"num\", Pipeline([(\"imputer\", SimpleImputer(strategy=\"median\")), (\"scaler\", MinMaxScaler())]), numeric_cols),\n",
    "    (\"cat\", Pipeline([(\"imputer\", SimpleImputer(strategy=\"most_frequent\")), (\"onehot\", OneHotEncoder(handle_unknown=\"ignore\"))]), categorical_cols),\n",
    "])\n",
    "\n",
    "# Binarizer for BernoulliNB (applied after MinMax -> values in [0,1])\n",
    "binarizer = Binarizer(threshold=0.5)"
   ]
  },
  {
   "cell_type": "code",
   "execution_count": 10,
   "id": "b02061d1-cb74-40fb-92c5-90d6b39aa28c",
   "metadata": {},
   "outputs": [],
   "source": [
    "from sklearn.linear_model import LogisticRegression\n",
    "from sklearn.neighbors import KNeighborsClassifier\n",
    "from sklearn.naive_bayes import GaussianNB, MultinomialNB, BernoulliNB\n",
    "from sklearn.svm import SVC\n",
    "from sklearn.ensemble import RandomForestClassifier\n",
    "from sklearn.tree import DecisionTreeClassifier"
   ]
  },
  {
   "cell_type": "code",
   "execution_count": 11,
   "id": "9392e5a3-85d5-4a50-8210-9c690c968e31",
   "metadata": {},
   "outputs": [],
   "source": [
    "# Logistic Regression\n",
    "pipe_lr = Pipeline([\n",
    "    (\"prep\", preprocessor_std),\n",
    "    (\"clf\", LogisticRegression(max_iter=1000, random_state=42))\n",
    "])\n",
    "\n",
    "# K-Nearest Neighbors\n",
    "pipe_knn = Pipeline([\n",
    "    (\"prep\", preprocessor_std),\n",
    "    (\"clf\", KNeighborsClassifier(n_neighbors=5))\n",
    "])\n",
    "\n",
    "# Gaussian Naive Bayes (works well with standardized continuous features)\n",
    "pipe_gnb = Pipeline([\n",
    "    (\"prep\", preprocessor_std),\n",
    "    (\"clf\", GaussianNB())\n",
    "])\n",
    "\n",
    "# Multinomial Naive Bayes (needs non-negative features)\n",
    "pipe_mnb = Pipeline([\n",
    "    (\"prep\", preprocessor_nonneg),\n",
    "    (\"clf\", MultinomialNB())\n",
    "])\n",
    "\n",
    "# Bernoulli Naive Bayes (binary features)\n",
    "pipe_bnb = Pipeline([\n",
    "    (\"prep\", preprocessor_nonneg),\n",
    "    (\"bin\", binarizer),\n",
    "    (\"clf\", BernoulliNB())\n",
    "])\n",
    "\n",
    "# SVM with RBF kernel\n",
    "pipe_svm = Pipeline([\n",
    "    (\"prep\", preprocessor_std),\n",
    "    (\"clf\", SVC(kernel=\"rbf\", probability=True, random_state=42))\n",
    "])\n",
    "\n",
    "# Random Forest (trees don't need scaling)\n",
    "pre_tf_for_trees = ColumnTransformer(transformers=[\n",
    "    (\"num\", Pipeline([(\"imputer\", SimpleImputer(strategy=\"median\"))]), numeric_cols),\n",
    "    (\"cat\", Pipeline([(\"imputer\", SimpleImputer(strategy=\"most_frequent\")), (\"onehot\", OneHotEncoder(handle_unknown=\"ignore\"))]), categorical_cols),\n",
    "])\n",
    "pipe_rf = Pipeline([\n",
    "    (\"prep\", pre_tf_for_trees),\n",
    "    (\"clf\", RandomForestClassifier(n_estimators=200, random_state=42))\n",
    "])\n",
    "\n",
    "# Decision Tree\n",
    "pipe_dt = Pipeline([\n",
    "    (\"prep\", pre_tf_for_trees),\n",
    "    (\"clf\", DecisionTreeClassifier(random_state=42))\n",
    "])\n"
   ]
  },
  {
   "cell_type": "code",
   "execution_count": 12,
   "id": "dfa1b3a0-4579-42d1-862f-1511f503cd42",
   "metadata": {},
   "outputs": [],
   "source": [
    "from sklearn.metrics import (\n",
    "    accuracy_score, precision_score, recall_score, f1_score, roc_auc_score,\n",
    "    confusion_matrix, classification_report\n",
    ")\n",
    "def evaluate_model(name, model, X_test, y_test):\n",
    "    y_pred = model.predict(X_test)\n",
    "    # try to get probabilities for ROC-AUC; fall back to decision_function if available\n",
    "    if hasattr(model, \"predict_proba\"):\n",
    "        y_score = model.predict_proba(X_test)[:, 1]\n",
    "    elif hasattr(model, \"decision_function\"):\n",
    "        s = model.decision_function(X_test)\n",
    "        # scale to [0,1]\n",
    "        y_score = (s - s.min()) / (s.max() - s.min() + 1e-12)\n",
    "    else:\n",
    "        # fallback: use predictions as scores (not ideal for AUC)\n",
    "        y_score = y_pred\n",
    "\n",
    "    acc = accuracy_score(y_test, y_pred)\n",
    "    prec = precision_score(y_test, y_pred, zero_division=0)\n",
    "    rec = recall_score(y_test, y_pred, zero_division=0)\n",
    "    f1 = f1_score(y_test, y_pred, zero_division=0)\n",
    "    try:\n",
    "        roc = roc_auc_score(y_test, y_score)\n",
    "    except Exception:\n",
    "        roc = float(\"nan\")\n",
    "\n",
    "    print(f\"--- {name} ---\")\n",
    "    print(f\"Accuracy:  {acc:.4f}   Precision: {prec:.4f}   Recall: {rec:.4f}   F1: {f1:.4f}   ROC-AUC: {roc:.4f}\")\n",
    "    print(\"Confusion matrix:\")\n",
    "    print(confusion_matrix(y_test, y_pred))\n",
    "    print(\"Classification report:\")\n",
    "    print(classification_report(y_test, y_pred, zero_division=0))\n",
    "    print()\n",
    "    return dict(model=name, accuracy=acc, precision=prec, recall=rec, f1=f1, roc_auc=roc)\n"
   ]
  },
  {
   "cell_type": "code",
   "execution_count": 13,
   "id": "56d1bf12-9b96-4930-b8e7-05ce0bace280",
   "metadata": {},
   "outputs": [
    {
     "name": "stdout",
     "output_type": "stream",
     "text": [
      "--- LogisticRegression ---\n",
      "Accuracy:  0.9600   Precision: 0.9646   Recall: 0.9550   F1: 0.9598   ROC-AUC: 0.9949\n",
      "Confusion matrix:\n",
      "[[193   7]\n",
      " [  9 191]]\n",
      "Classification report:\n",
      "              precision    recall  f1-score   support\n",
      "\n",
      "           0       0.96      0.96      0.96       200\n",
      "           1       0.96      0.95      0.96       200\n",
      "\n",
      "    accuracy                           0.96       400\n",
      "   macro avg       0.96      0.96      0.96       400\n",
      "weighted avg       0.96      0.96      0.96       400\n",
      "\n",
      "\n"
     ]
    }
   ],
   "source": [
    "results = []\n",
    "\n",
    "# Logistic Regression\n",
    "pipe_lr.fit(X_train, y_train)\n",
    "results.append(evaluate_model(\"LogisticRegression\", pipe_lr, X_test, y_test))"
   ]
  },
  {
   "cell_type": "code",
   "execution_count": 14,
   "id": "f1e50272-94a5-4f2a-80f8-c09a9a9a1132",
   "metadata": {},
   "outputs": [
    {
     "name": "stdout",
     "output_type": "stream",
     "text": [
      "--- KNN ---\n",
      "Accuracy:  0.9950   Precision: 0.9950   Recall: 0.9950   F1: 0.9950   ROC-AUC: 0.9971\n",
      "Confusion matrix:\n",
      "[[199   1]\n",
      " [  1 199]]\n",
      "Classification report:\n",
      "              precision    recall  f1-score   support\n",
      "\n",
      "           0       0.99      0.99      0.99       200\n",
      "           1       0.99      0.99      0.99       200\n",
      "\n",
      "    accuracy                           0.99       400\n",
      "   macro avg       0.99      0.99      0.99       400\n",
      "weighted avg       0.99      0.99      0.99       400\n",
      "\n",
      "\n"
     ]
    }
   ],
   "source": [
    "# KNN\n",
    "pipe_knn.fit(X_train, y_train)\n",
    "results.append(evaluate_model(\"KNN\", pipe_knn, X_test, y_test))"
   ]
  },
  {
   "cell_type": "code",
   "execution_count": 15,
   "id": "9b480d2f-273b-45c3-b8ae-c223d963990e",
   "metadata": {},
   "outputs": [
    {
     "name": "stdout",
     "output_type": "stream",
     "text": [
      "--- GaussianNB ---\n",
      "Accuracy:  0.9450   Precision: 0.9734   Recall: 0.9150   F1: 0.9433   ROC-AUC: 0.9904\n",
      "Confusion matrix:\n",
      "[[195   5]\n",
      " [ 17 183]]\n",
      "Classification report:\n",
      "              precision    recall  f1-score   support\n",
      "\n",
      "           0       0.92      0.97      0.95       200\n",
      "           1       0.97      0.92      0.94       200\n",
      "\n",
      "    accuracy                           0.94       400\n",
      "   macro avg       0.95      0.95      0.94       400\n",
      "weighted avg       0.95      0.94      0.94       400\n",
      "\n",
      "\n"
     ]
    }
   ],
   "source": [
    "# GaussianNB\n",
    "pipe_gnb.fit(X_train, y_train)\n",
    "results.append(evaluate_model(\"GaussianNB\", pipe_gnb, X_test, y_test))"
   ]
  },
  {
   "cell_type": "code",
   "execution_count": 16,
   "id": "424f65e9-2c11-41a9-8931-77b5d9d88805",
   "metadata": {},
   "outputs": [
    {
     "name": "stdout",
     "output_type": "stream",
     "text": [
      "--- MultinomialNB ---\n",
      "Accuracy:  0.8800   Precision: 0.8878   Recall: 0.8700   F1: 0.8788   ROC-AUC: 0.9495\n",
      "Confusion matrix:\n",
      "[[178  22]\n",
      " [ 26 174]]\n",
      "Classification report:\n",
      "              precision    recall  f1-score   support\n",
      "\n",
      "           0       0.87      0.89      0.88       200\n",
      "           1       0.89      0.87      0.88       200\n",
      "\n",
      "    accuracy                           0.88       400\n",
      "   macro avg       0.88      0.88      0.88       400\n",
      "weighted avg       0.88      0.88      0.88       400\n",
      "\n",
      "\n"
     ]
    }
   ],
   "source": [
    "# MultinomialNB\n",
    "pipe_mnb.fit(X_train, y_train)\n",
    "results.append(evaluate_model(\"MultinomialNB\", pipe_mnb, X_test, y_test))"
   ]
  },
  {
   "cell_type": "code",
   "execution_count": 17,
   "id": "80581c8a-d1d4-4a47-8f84-04a129df1595",
   "metadata": {},
   "outputs": [
    {
     "name": "stdout",
     "output_type": "stream",
     "text": [
      "--- BernoulliNB ---\n",
      "Accuracy:  0.8300   Precision: 0.9583   Recall: 0.6900   F1: 0.8023   ROC-AUC: 0.8784\n",
      "Confusion matrix:\n",
      "[[194   6]\n",
      " [ 62 138]]\n",
      "Classification report:\n",
      "              precision    recall  f1-score   support\n",
      "\n",
      "           0       0.76      0.97      0.85       200\n",
      "           1       0.96      0.69      0.80       200\n",
      "\n",
      "    accuracy                           0.83       400\n",
      "   macro avg       0.86      0.83      0.83       400\n",
      "weighted avg       0.86      0.83      0.83       400\n",
      "\n",
      "\n"
     ]
    }
   ],
   "source": [
    "# BernoulliNB\n",
    "pipe_bnb.fit(X_train, y_train)\n",
    "results.append(evaluate_model(\"BernoulliNB\", pipe_bnb, X_test, y_test))"
   ]
  },
  {
   "cell_type": "code",
   "execution_count": 18,
   "id": "0afb10df-c5b8-466a-853f-92f5232ff0eb",
   "metadata": {},
   "outputs": [
    {
     "name": "stdout",
     "output_type": "stream",
     "text": [
      "--- SVM_RBF ---\n",
      "Accuracy:  0.9825   Precision: 1.0000   Recall: 0.9650   F1: 0.9822   ROC-AUC: 0.9983\n",
      "Confusion matrix:\n",
      "[[200   0]\n",
      " [  7 193]]\n",
      "Classification report:\n",
      "              precision    recall  f1-score   support\n",
      "\n",
      "           0       0.97      1.00      0.98       200\n",
      "           1       1.00      0.96      0.98       200\n",
      "\n",
      "    accuracy                           0.98       400\n",
      "   macro avg       0.98      0.98      0.98       400\n",
      "weighted avg       0.98      0.98      0.98       400\n",
      "\n",
      "\n"
     ]
    }
   ],
   "source": [
    "# SVM (RBF)\n",
    "pipe_svm.fit(X_train, y_train)\n",
    "results.append(evaluate_model(\"SVM_RBF\", pipe_svm, X_test, y_test))"
   ]
  },
  {
   "cell_type": "code",
   "execution_count": 19,
   "id": "5e970717-6c7a-4169-8367-d2fa7f45e985",
   "metadata": {},
   "outputs": [
    {
     "name": "stdout",
     "output_type": "stream",
     "text": [
      "--- RandomForest ---\n",
      "Accuracy:  0.9875   Precision: 0.9949   Recall: 0.9800   F1: 0.9874   ROC-AUC: 0.9987\n",
      "Confusion matrix:\n",
      "[[199   1]\n",
      " [  4 196]]\n",
      "Classification report:\n",
      "              precision    recall  f1-score   support\n",
      "\n",
      "           0       0.98      0.99      0.99       200\n",
      "           1       0.99      0.98      0.99       200\n",
      "\n",
      "    accuracy                           0.99       400\n",
      "   macro avg       0.99      0.99      0.99       400\n",
      "weighted avg       0.99      0.99      0.99       400\n",
      "\n",
      "\n"
     ]
    }
   ],
   "source": [
    "# Random Forest\n",
    "pipe_rf.fit(X_train, y_train)\n",
    "results.append(evaluate_model(\"RandomForest\", pipe_rf, X_test, y_test))"
   ]
  },
  {
   "cell_type": "code",
   "execution_count": 20,
   "id": "ce39d503-98c8-4346-8b10-338420f9290e",
   "metadata": {},
   "outputs": [
    {
     "name": "stdout",
     "output_type": "stream",
     "text": [
      "--- DecisionTree ---\n",
      "Accuracy:  0.9750   Precision: 0.9897   Recall: 0.9600   F1: 0.9746   ROC-AUC: 0.9750\n",
      "Confusion matrix:\n",
      "[[198   2]\n",
      " [  8 192]]\n",
      "Classification report:\n",
      "              precision    recall  f1-score   support\n",
      "\n",
      "           0       0.96      0.99      0.98       200\n",
      "           1       0.99      0.96      0.97       200\n",
      "\n",
      "    accuracy                           0.97       400\n",
      "   macro avg       0.98      0.97      0.97       400\n",
      "weighted avg       0.98      0.97      0.97       400\n",
      "\n",
      "\n"
     ]
    }
   ],
   "source": [
    "# Decision Tree\n",
    "pipe_dt.fit(X_train, y_train)\n",
    "results.append(evaluate_model(\"DecisionTree\", pipe_dt, X_test, y_test))"
   ]
  },
  {
   "cell_type": "code",
   "execution_count": 21,
   "id": "d747efbc-157f-489f-a5c2-82f05b40db3b",
   "metadata": {},
   "outputs": [
    {
     "data": {
      "text/html": [
       "<div>\n",
       "<style scoped>\n",
       "    .dataframe tbody tr th:only-of-type {\n",
       "        vertical-align: middle;\n",
       "    }\n",
       "\n",
       "    .dataframe tbody tr th {\n",
       "        vertical-align: top;\n",
       "    }\n",
       "\n",
       "    .dataframe thead th {\n",
       "        text-align: right;\n",
       "    }\n",
       "</style>\n",
       "<table border=\"1\" class=\"dataframe\">\n",
       "  <thead>\n",
       "    <tr style=\"text-align: right;\">\n",
       "      <th></th>\n",
       "      <th>model</th>\n",
       "      <th>accuracy</th>\n",
       "      <th>precision</th>\n",
       "      <th>recall</th>\n",
       "      <th>f1</th>\n",
       "      <th>roc_auc</th>\n",
       "    </tr>\n",
       "  </thead>\n",
       "  <tbody>\n",
       "    <tr>\n",
       "      <th>6</th>\n",
       "      <td>RandomForest</td>\n",
       "      <td>0.9875</td>\n",
       "      <td>0.994924</td>\n",
       "      <td>0.980</td>\n",
       "      <td>0.987406</td>\n",
       "      <td>0.998725</td>\n",
       "    </tr>\n",
       "    <tr>\n",
       "      <th>5</th>\n",
       "      <td>SVM_RBF</td>\n",
       "      <td>0.9825</td>\n",
       "      <td>1.000000</td>\n",
       "      <td>0.965</td>\n",
       "      <td>0.982188</td>\n",
       "      <td>0.998350</td>\n",
       "    </tr>\n",
       "    <tr>\n",
       "      <th>1</th>\n",
       "      <td>KNN</td>\n",
       "      <td>0.9950</td>\n",
       "      <td>0.995000</td>\n",
       "      <td>0.995</td>\n",
       "      <td>0.995000</td>\n",
       "      <td>0.997112</td>\n",
       "    </tr>\n",
       "    <tr>\n",
       "      <th>0</th>\n",
       "      <td>LogisticRegression</td>\n",
       "      <td>0.9600</td>\n",
       "      <td>0.964646</td>\n",
       "      <td>0.955</td>\n",
       "      <td>0.959799</td>\n",
       "      <td>0.994900</td>\n",
       "    </tr>\n",
       "    <tr>\n",
       "      <th>2</th>\n",
       "      <td>GaussianNB</td>\n",
       "      <td>0.9450</td>\n",
       "      <td>0.973404</td>\n",
       "      <td>0.915</td>\n",
       "      <td>0.943299</td>\n",
       "      <td>0.990425</td>\n",
       "    </tr>\n",
       "    <tr>\n",
       "      <th>7</th>\n",
       "      <td>DecisionTree</td>\n",
       "      <td>0.9750</td>\n",
       "      <td>0.989691</td>\n",
       "      <td>0.960</td>\n",
       "      <td>0.974619</td>\n",
       "      <td>0.975000</td>\n",
       "    </tr>\n",
       "    <tr>\n",
       "      <th>3</th>\n",
       "      <td>MultinomialNB</td>\n",
       "      <td>0.8800</td>\n",
       "      <td>0.887755</td>\n",
       "      <td>0.870</td>\n",
       "      <td>0.878788</td>\n",
       "      <td>0.949450</td>\n",
       "    </tr>\n",
       "    <tr>\n",
       "      <th>4</th>\n",
       "      <td>BernoulliNB</td>\n",
       "      <td>0.8300</td>\n",
       "      <td>0.958333</td>\n",
       "      <td>0.690</td>\n",
       "      <td>0.802326</td>\n",
       "      <td>0.878425</td>\n",
       "    </tr>\n",
       "  </tbody>\n",
       "</table>\n",
       "</div>"
      ],
      "text/plain": [
       "                model  accuracy  precision  recall        f1   roc_auc\n",
       "6        RandomForest    0.9875   0.994924   0.980  0.987406  0.998725\n",
       "5             SVM_RBF    0.9825   1.000000   0.965  0.982188  0.998350\n",
       "1                 KNN    0.9950   0.995000   0.995  0.995000  0.997112\n",
       "0  LogisticRegression    0.9600   0.964646   0.955  0.959799  0.994900\n",
       "2          GaussianNB    0.9450   0.973404   0.915  0.943299  0.990425\n",
       "7        DecisionTree    0.9750   0.989691   0.960  0.974619  0.975000\n",
       "3       MultinomialNB    0.8800   0.887755   0.870  0.878788  0.949450\n",
       "4         BernoulliNB    0.8300   0.958333   0.690  0.802326  0.878425"
      ]
     },
     "metadata": {},
     "output_type": "display_data"
    },
    {
     "data": {
      "image/png": "[encoded data removed]",
      "text/plain": [
       "<Figure size 1000x500 with 1 Axes>"
      ]
     },
     "metadata": {},
     "output_type": "display_data"
    },
    {
     "name": "stdout",
     "output_type": "stream",
     "text": [
      "Saved metrics_summary.csv and all joblib models in current folder.\n"
     ]
    }
   ],
   "source": [
    "metrics_df = pd.DataFrame(results).sort_values(\"roc_auc\", ascending=False)\n",
    "display(metrics_df)\n",
    "\n",
    "# simple ROC-AUC bar plot\n",
    "plt.figure(figsize=(10,5))\n",
    "plt.bar(metrics_df['model'], metrics_df['roc_auc'])\n",
    "plt.ylabel(\"ROC-AUC\")\n",
    "plt.xlabel(\"Model\")\n",
    "plt.title(\"ROC-AUC by Model (test set)\")\n",
    "plt.xticks(rotation=30, ha='right')\n",
    "plt.tight_layout()\n",
    "plt.show()\n",
    "\n",
    "# save summary\n",
    "metrics_df.to_csv(\"metrics_summary.csv\", index=False)\n",
    "print(\"Saved metrics_summary.csv and all joblib models in current folder.\")\n"
   ]
  },
  {
   "cell_type": "code",
   "execution_count": 22,
   "id": "b84706b5-c014-4d7e-8368-dfc41e8997e8",
   "metadata": {},
   "outputs": [
    {
     "name": "stdout",
     "output_type": "stream",
     "text": [
      "Accuracy: 0.985\n",
      "\n",
      "Classification Report:\n",
      "               precision    recall  f1-score   support\n",
      "\n",
      "           0       0.98      0.99      0.99       200\n",
      "           1       0.99      0.98      0.98       200\n",
      "\n",
      "    accuracy                           0.98       400\n",
      "   macro avg       0.99      0.98      0.98       400\n",
      "weighted avg       0.99      0.98      0.98       400\n",
      "\n"
     ]
    }
   ],
   "source": [
    "model = RandomForestClassifier(n_estimators=100, random_state=42)\n",
    "model.fit(X_train, y_train)\n",
    "\n",
    "# Evaluate model\n",
    "y_pred = model.predict(X_test)\n",
    "print(\"Accuracy:\", accuracy_score(y_test, y_pred))\n",
    "print(\"\\nClassification Report:\\n\", classification_report(y_test, y_pred))\n"
   ]
  },
  {
   "cell_type": "code",
   "execution_count": 23,
   "id": "424afe42-d36c-41b3-a7ea-a597e24359f6",
   "metadata": {},
   "outputs": [],
   "source": [
    "import pickle"
   ]
  },
  {
   "cell_type": "code",
   "execution_count": 24,
   "id": "0115c434-c803-4b57-b640-a2648ea3c5ed",
   "metadata": {},
   "outputs": [],
   "source": [
    "with open('model.pkl', 'wb') as f:\n",
    "    pickle.dump(model, f)"
   ]
  },
  {
   "cell_type": "code",
   "execution_count": null,
   "id": "173c638c-6bb9-4fad-b7b0-5b00849a938e",
   "metadata": {},
   "outputs": [],
   "source": []
  },
  {
   "cell_type": "code",
   "execution_count": null,
   "id": "d79e6ef2-b965-4734-9a1e-7607ab5eacc4",
   "metadata": {},
   "outputs": [],
   "source": []
  }
 ],
 "metadata": {
  "kernelspec": {
   "display_name": "Python 3 (ipykernel)",
   "language": "python",
   "name": "python3"
  },
  "language_info": {
   "codemirror_mode": {
    "name": "ipython",
    "version": 3
   },
   "file_extension": ".py",
   "mimetype": "text/x-python",
   "name": "python",
   "nbconvert_exporter": "python",
   "pygments_lexer": "ipython3",
   "version": "3.12.4"
  }
 },
 "nbformat": 4,
 "nbformat_minor": 5
}
