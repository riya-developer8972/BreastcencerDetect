{
 "cells": [
  {
   "cell_type": "code",
   "execution_count": 1,
   "id": "920aa3da-b130-4da6-8521-201d20ed9c83",
   "metadata": {},
   "outputs": [],
   "source": [
    "import os, re\n",
    "import pandas as pd\n",
    "import numpy as np\n",
    "import joblib\n",
    "import matplotlib.pyplot as plt\n",
    "\n",
    "from sklearn.model_selection import train_test_split\n",
    "from sklearn.compose import ColumnTransformer\n",
    "from sklearn.pipeline import Pipeline\n",
    "from sklearn.preprocessing import StandardScaler, MinMaxScaler, OneHotEncoder, Binarizer\n",
    "from sklearn.impute import SimpleImputer\n",
    "\n",
    "from sklearn.linear_model import LogisticRegression\n",
    "from sklearn.neighbors import KNeighborsClassifier\n",
    "from sklearn.naive_bayes import GaussianNB, MultinomialNB, BernoulliNB\n",
    "from sklearn.svm import SVC\n",
    "from sklearn.ensemble import RandomForestClassifier\n",
    "from sklearn.tree import DecisionTreeClassifier\n",
    "\n",
    "from sklearn.metrics import (\n",
    "    accuracy_score, precision_score, recall_score, f1_score, roc_auc_score,\n",
    "    confusion_matrix, classification_report\n",
    ")\n",
    "\n",
    "# small helper to evaluate a model and print metrics\n",
    "def evaluate_model(name, model, X_test, y_test):\n",
    "    y_pred = model.predict(X_test)\n",
    "    # try to get probabilities for ROC-AUC; fall back to decision_function if available\n",
    "    if hasattr(model, \"predict_proba\"):\n",
    "        y_score = model.predict_proba(X_test)[:, 1]\n",
    "    elif hasattr(model, \"decision_function\"):\n",
    "        s = model.decision_function(X_test)\n",
    "        # scale to [0,1]\n",
    "        y_score = (s - s.min()) / (s.max() - s.min() + 1e-12)\n",
    "    else:\n",
    "        # fallback: use predictions as scores (not ideal for AUC)\n",
    "        y_score = y_pred\n",
    "\n",
    "    acc = accuracy_score(y_test, y_pred)\n",
    "    prec = precision_score(y_test, y_pred, zero_division=0)\n",
    "    rec = recall_score(y_test, y_pred, zero_division=0)\n",
    "    f1 = f1_score(y_test, y_pred, zero_division=0)\n",
    "    try:\n",
    "        roc = roc_auc_score(y_test, y_score)\n",
    "    except Exception:\n",
    "        roc = float(\"nan\")\n",
    "\n",
    "    print(f\"--- {name} ---\")\n",
    "    print(f\"Accuracy:  {acc:.4f}   Precision: {prec:.4f}   Recall: {rec:.4f}   F1: {f1:.4f}   ROC-AUC: {roc:.4f}\")\n",
    "    print(\"Confusion matrix:\")\n",
    "    print(confusion_matrix(y_test, y_pred))\n",
    "    print(\"Classification report:\")\n",
    "    print(classification_report(y_test, y_pred, zero_division=0))\n",
    "    print()\n",
    "    return dict(model=name, accuracy=acc, precision=prec, recall=rec, f1=f1, roc_auc=roc)\n"
   ]
  },
  {
   "cell_type": "code",
   "execution_count": 5,
   "id": "df31e839-4821-4a78-96e2-3abb6c002351",
   "metadata": {},
   "outputs": [
    {
     "name": "stdout",
     "output_type": "stream",
     "text": [
      "Shape: (2000, 31)\n"
     ]
    },
    {
     "data": {
      "text/html": [
       "<div>\n",
       "<style scoped>\n",
       "    .dataframe tbody tr th:only-of-type {\n",
       "        vertical-align: middle;\n",
       "    }\n",
       "\n",
       "    .dataframe tbody tr th {\n",
       "        vertical-align: top;\n",
       "    }\n",
       "\n",
       "    .dataframe thead th {\n",
       "        text-align: right;\n",
       "    }\n",
       "</style>\n",
       "<table border=\"1\" class=\"dataframe\">\n",
       "  <thead>\n",
       "    <tr style=\"text-align: right;\">\n",
       "      <th></th>\n",
       "      <th>radius_mean</th>\n",
       "      <th>texture_mean</th>\n",
       "      <th>perimeter_mean</th>\n",
       "      <th>area_mean</th>\n",
       "      <th>smoothness_mean</th>\n",
       "      <th>compactness_mean</th>\n",
       "      <th>concavity_mean</th>\n",
       "      <th>concave points_mean</th>\n",
       "      <th>symmetry_mean</th>\n",
       "      <th>fractal_dimension_mean</th>\n",
       "      <th>...</th>\n",
       "      <th>texture_worst</th>\n",
       "      <th>perimeter_worst</th>\n",
       "      <th>area_worst</th>\n",
       "      <th>smoothness_worst</th>\n",
       "      <th>compactness_worst</th>\n",
       "      <th>concavity_worst</th>\n",
       "      <th>concave points_worst</th>\n",
       "      <th>symmetry_worst</th>\n",
       "      <th>fractal_dimension_worst</th>\n",
       "      <th>diagnosis</th>\n",
       "    </tr>\n",
       "  </thead>\n",
       "  <tbody>\n",
       "    <tr>\n",
       "      <th>0</th>\n",
       "      <td>17.99</td>\n",
       "      <td>10.38</td>\n",
       "      <td>122.80</td>\n",
       "      <td>1001.0</td>\n",
       "      <td>0.11840</td>\n",
       "      <td>0.27760</td>\n",
       "      <td>0.3001</td>\n",
       "      <td>0.14710</td>\n",
       "      <td>0.2419</td>\n",
       "      <td>0.07871</td>\n",
       "      <td>...</td>\n",
       "      <td>17.33</td>\n",
       "      <td>184.60</td>\n",
       "      <td>2019.0</td>\n",
       "      <td>0.1622</td>\n",
       "      <td>0.6656</td>\n",
       "      <td>0.7119</td>\n",
       "      <td>0.2654</td>\n",
       "      <td>0.4601</td>\n",
       "      <td>0.11890</td>\n",
       "      <td>1</td>\n",
       "    </tr>\n",
       "    <tr>\n",
       "      <th>1</th>\n",
       "      <td>20.57</td>\n",
       "      <td>17.77</td>\n",
       "      <td>132.90</td>\n",
       "      <td>1326.0</td>\n",
       "      <td>0.08474</td>\n",
       "      <td>0.07864</td>\n",
       "      <td>0.0869</td>\n",
       "      <td>0.07017</td>\n",
       "      <td>0.1812</td>\n",
       "      <td>0.05667</td>\n",
       "      <td>...</td>\n",
       "      <td>23.41</td>\n",
       "      <td>158.80</td>\n",
       "      <td>1956.0</td>\n",
       "      <td>0.1238</td>\n",
       "      <td>0.1866</td>\n",
       "      <td>0.2416</td>\n",
       "      <td>0.1860</td>\n",
       "      <td>0.2750</td>\n",
       "      <td>0.08902</td>\n",
       "      <td>1</td>\n",
       "    </tr>\n",
       "    <tr>\n",
       "      <th>2</th>\n",
       "      <td>19.69</td>\n",
       "      <td>21.25</td>\n",
       "      <td>130.00</td>\n",
       "      <td>1203.0</td>\n",
       "      <td>0.10960</td>\n",
       "      <td>0.15990</td>\n",
       "      <td>0.1974</td>\n",
       "      <td>0.12790</td>\n",
       "      <td>0.2069</td>\n",
       "      <td>0.05999</td>\n",
       "      <td>...</td>\n",
       "      <td>25.53</td>\n",
       "      <td>152.50</td>\n",
       "      <td>1709.0</td>\n",
       "      <td>0.1444</td>\n",
       "      <td>0.4245</td>\n",
       "      <td>0.4504</td>\n",
       "      <td>0.2430</td>\n",
       "      <td>0.3613</td>\n",
       "      <td>0.08758</td>\n",
       "      <td>1</td>\n",
       "    </tr>\n",
       "    <tr>\n",
       "      <th>3</th>\n",
       "      <td>11.42</td>\n",
       "      <td>20.38</td>\n",
       "      <td>77.58</td>\n",
       "      <td>386.1</td>\n",
       "      <td>0.14250</td>\n",
       "      <td>0.28390</td>\n",
       "      <td>0.2414</td>\n",
       "      <td>0.10520</td>\n",
       "      <td>0.2597</td>\n",
       "      <td>0.09744</td>\n",
       "      <td>...</td>\n",
       "      <td>26.50</td>\n",
       "      <td>98.87</td>\n",
       "      <td>567.7</td>\n",
       "      <td>0.2098</td>\n",
       "      <td>0.8663</td>\n",
       "      <td>0.6869</td>\n",
       "      <td>0.2575</td>\n",
       "      <td>0.6638</td>\n",
       "      <td>0.17300</td>\n",
       "      <td>1</td>\n",
       "    </tr>\n",
       "    <tr>\n",
       "      <th>4</th>\n",
       "      <td>20.29</td>\n",
       "      <td>14.34</td>\n",
       "      <td>135.10</td>\n",
       "      <td>1297.0</td>\n",
       "      <td>0.10030</td>\n",
       "      <td>0.13280</td>\n",
       "      <td>0.1980</td>\n",
       "      <td>0.10430</td>\n",
       "      <td>0.1809</td>\n",
       "      <td>0.05883</td>\n",
       "      <td>...</td>\n",
       "      <td>16.67</td>\n",
       "      <td>152.20</td>\n",
       "      <td>1575.0</td>\n",
       "      <td>0.1374</td>\n",
       "      <td>0.2050</td>\n",
       "      <td>0.4000</td>\n",
       "      <td>0.1625</td>\n",
       "      <td>0.2364</td>\n",
       "      <td>0.07678</td>\n",
       "      <td>1</td>\n",
       "    </tr>\n",
       "  </tbody>\n",
       "</table>\n",
       "<p>5 rows × 31 columns</p>\n",
       "</div>"
      ],
      "text/plain": [
       "   radius_mean  texture_mean  perimeter_mean  area_mean  smoothness_mean  \\\n",
       "0        17.99         10.38          122.80     1001.0          0.11840   \n",
       "1        20.57         17.77          132.90     1326.0          0.08474   \n",
       "2        19.69         21.25          130.00     1203.0          0.10960   \n",
       "3        11.42         20.38           77.58      386.1          0.14250   \n",
       "4        20.29         14.34          135.10     1297.0          0.10030   \n",
       "\n",
       "   compactness_mean  concavity_mean  concave points_mean  symmetry_mean  \\\n",
       "0           0.27760          0.3001              0.14710         0.2419   \n",
       "1           0.07864          0.0869              0.07017         0.1812   \n",
       "2           0.15990          0.1974              0.12790         0.2069   \n",
       "3           0.28390          0.2414              0.10520         0.2597   \n",
       "4           0.13280          0.1980              0.10430         0.1809   \n",
       "\n",
       "   fractal_dimension_mean  ...  texture_worst  perimeter_worst  area_worst  \\\n",
       "0                 0.07871  ...          17.33           184.60      2019.0   \n",
       "1                 0.05667  ...          23.41           158.80      1956.0   \n",
       "2                 0.05999  ...          25.53           152.50      1709.0   \n",
       "3                 0.09744  ...          26.50            98.87       567.7   \n",
       "4                 0.05883  ...          16.67           152.20      1575.0   \n",
       "\n",
       "   smoothness_worst  compactness_worst  concavity_worst  concave points_worst  \\\n",
       "0            0.1622             0.6656           0.7119                0.2654   \n",
       "1            0.1238             0.1866           0.2416                0.1860   \n",
       "2            0.1444             0.4245           0.4504                0.2430   \n",
       "3            0.2098             0.8663           0.6869                0.2575   \n",
       "4            0.1374             0.2050           0.4000                0.1625   \n",
       "\n",
       "   symmetry_worst  fractal_dimension_worst  diagnosis  \n",
       "0          0.4601                  0.11890          1  \n",
       "1          0.2750                  0.08902          1  \n",
       "2          0.3613                  0.08758          1  \n",
       "3          0.6638                  0.17300          1  \n",
       "4          0.2364                  0.07678          1  \n",
       "\n",
       "[5 rows x 31 columns]"
      ]
     },
     "metadata": {},
     "output_type": "display_data"
    },
    {
     "name": "stdout",
     "output_type": "stream",
     "text": [
      "\n",
      "Columns: ['radius_mean', 'texture_mean', 'perimeter_mean', 'area_mean', 'smoothness_mean', 'compactness_mean', 'concavity_mean', 'concave points_mean', 'symmetry_mean', 'fractal_dimension_mean', 'radius_se', 'texture_se', 'perimeter_se', 'area_se', 'smoothness_se', 'compactness_se', 'concavity_se', 'concave points_se', 'symmetry_se', 'fractal_dimension_se', 'radius_worst', 'texture_worst', 'perimeter_worst', 'area_worst', 'smoothness_worst', 'compactness_worst', 'concavity_worst', 'concave points_worst', 'symmetry_worst', 'fractal_dimension_worst', 'diagnosis']\n",
      "\n",
      "Diagnosis value counts:\n",
      "diagnosis\n",
      "1    1000\n",
      "0    1000\n",
      "Name: count, dtype: int64\n"
     ]
    }
   ],
   "source": [
    "# change the path if needed\n",
    "csv_path = (r\"C:\\Users\\RIYA BANERJEE\\pythonfile\\python.py\\finalyearproject\\breast_cancer_2000.csv\")\n",
    "df = pd.read_csv(csv_path)\n",
    "\n",
    "print(\"Shape:\", df.shape)\n",
    "display(df.head())\n",
    "print(\"\\nColumns:\", df.columns.tolist())\n",
    "\n",
    "# quick target inspection - many breast datasets use 'diagnosis'\n",
    "if 'diagnosis' in df.columns:\n",
    "    print(\"\\nDiagnosis value counts:\")\n",
    "    print(df['diagnosis'].value_counts())\n",
    "else:\n",
    "    print(\"\\nNo 'diagnosis' column found; inspect columns above and change the code accordingly.\")\n"
   ]
  },
  {
   "cell_type": "code",
   "execution_count": 6,
   "id": "2fe8247d-8214-480d-83e5-a934790359a3",
   "metadata": {},
   "outputs": [
    {
     "name": "stdout",
     "output_type": "stream",
     "text": [
      "Dropped ID-like columns: []\n",
      "X shape: (2000, 30) y distribution:\n",
      " diagnosis\n",
      "1    1000\n",
      "0    1000\n",
      "Name: count, dtype: int64\n"
     ]
    }
   ],
   "source": [
    "# auto-detect or set the target column\n",
    "if 'diagnosis' in df.columns:\n",
    "    target_col = 'diagnosis'\n",
    "else:\n",
    "    # fallback: pick last column (adjust if needed)\n",
    "    target_col = df.columns[-1]\n",
    "    print(\"Using\", target_col, \"as target\")\n",
    "\n",
    "# map common labels to 0/1: 1 = malignant/positive, 0 = benign/negative\n",
    "y_raw = df[target_col].astype(str).str.strip().str.lower()\n",
    "\n",
    "# common mappings\n",
    "if set(y_raw.unique()) <= set(['m','b']):\n",
    "    y = y_raw.map({'m':1,'b':0}).astype(int)\n",
    "elif set(y_raw.unique()) <= set(['malignant','benign']):\n",
    "    y = y_raw.map({'malignant':1,'benign':0}).astype(int)\n",
    "elif set(y_raw.unique()) <= set(['1','0']):\n",
    "    y = y_raw.astype(int)\n",
    "else:\n",
    "    # generic: factorize then map the larger-risk class to 1 (the minority)\n",
    "    codes, uniques = pd.factorize(y_raw)\n",
    "    if len(uniques) == 2:\n",
    "        # map second unique to 1 by default\n",
    "        mapping = {uniques[0]:0, uniques[1]:1}\n",
    "        y = pd.Series([mapping[val] for val in y_raw]).astype(int)\n",
    "    else:\n",
    "        raise ValueError(\"Target has >2 classes or unexpected labels. Edit mapping manually.\")\n",
    "\n",
    "# drop ID-like columns (if any) but keep the target\n",
    "drop_cols = [c for c in df.columns if re.search(r'id|patient|index', c, re.I) and c != target_col]\n",
    "X = df.drop(columns=[target_col] + drop_cols)\n",
    "print(\"Dropped ID-like columns:\", drop_cols)\n",
    "print(\"X shape:\", X.shape, \"y distribution:\\n\", y.value_counts())\n"
   ]
  },
  {
   "cell_type": "code",
   "execution_count": 7,
   "id": "d8bbe5e2-9ead-479c-90bb-385c1501f18e",
   "metadata": {},
   "outputs": [
    {
     "name": "stdout",
     "output_type": "stream",
     "text": [
      "Train: (1600, 30) Test: (400, 30)\n"
     ]
    }
   ],
   "source": [
    "X_train, X_test, y_train, y_test = train_test_split(\n",
    "    X, y, test_size=0.2, random_state=42, stratify=y\n",
    ")\n",
    "print(\"Train:\", X_train.shape, \"Test:\", X_test.shape)\n"
   ]
  },
  {
   "cell_type": "code",
   "execution_count": 8,
   "id": "92571bfa-5600-4b2f-920c-cb88c25d888d",
   "metadata": {},
   "outputs": [],
   "source": [
    "numeric_cols = X.select_dtypes(include=[np.number]).columns.tolist()\n",
    "categorical_cols = [c for c in X.columns if c not in numeric_cols]\n",
    "\n",
    "# Standard preprocessor: median imputation + StandardScaler (for LR, KNN, SVM, GaussianNB)\n",
    "preprocessor_std = ColumnTransformer(transformers=[\n",
    "    (\"num\", Pipeline([(\"imputer\", SimpleImputer(strategy=\"median\")), (\"scaler\", StandardScaler())]), numeric_cols),\n",
    "    (\"cat\", Pipeline([(\"imputer\", SimpleImputer(strategy=\"most_frequent\")), (\"onehot\", OneHotEncoder(handle_unknown=\"ignore\"))]), categorical_cols),\n",
    "])\n",
    "\n",
    "# Non-negative preprocessor: MinMax scaling to [0,1] (for MultinomialNB / BernoulliNB)\n",
    "preprocessor_nonneg = ColumnTransformer(transformers=[\n",
    "    (\"num\", Pipeline([(\"imputer\", SimpleImputer(strategy=\"median\")), (\"scaler\", MinMaxScaler())]), numeric_cols),\n",
    "    (\"cat\", Pipeline([(\"imputer\", SimpleImputer(strategy=\"most_frequent\")), (\"onehot\", OneHotEncoder(handle_unknown=\"ignore\"))]), categorical_cols),\n",
    "])\n",
    "\n",
    "# Binarizer for BernoulliNB (applied after MinMax -> values in [0,1])\n",
    "binarizer = Binarizer(threshold=0.5)\n"
   ]
  },
  {
   "cell_type": "code",
   "execution_count": 9,
   "id": "e865572f-31af-4797-a73c-33167648c1e8",
   "metadata": {},
   "outputs": [],
   "source": [
    "# Logistic Regression\n",
    "pipe_lr = Pipeline([\n",
    "    (\"prep\", preprocessor_std),\n",
    "    (\"clf\", LogisticRegression(max_iter=1000, random_state=42))\n",
    "])\n",
    "\n",
    "# K-Nearest Neighbors\n",
    "pipe_knn = Pipeline([\n",
    "    (\"prep\", preprocessor_std),\n",
    "    (\"clf\", KNeighborsClassifier(n_neighbors=5))\n",
    "])\n",
    "\n",
    "# Gaussian Naive Bayes (works well with standardized continuous features)\n",
    "pipe_gnb = Pipeline([\n",
    "    (\"prep\", preprocessor_std),\n",
    "    (\"clf\", GaussianNB())\n",
    "])\n",
    "\n",
    "# Multinomial Naive Bayes (needs non-negative features)\n",
    "pipe_mnb = Pipeline([\n",
    "    (\"prep\", preprocessor_nonneg),\n",
    "    (\"clf\", MultinomialNB())\n",
    "])\n",
    "\n",
    "# Bernoulli Naive Bayes (binary features)\n",
    "pipe_bnb = Pipeline([\n",
    "    (\"prep\", preprocessor_nonneg),\n",
    "    (\"bin\", binarizer),\n",
    "    (\"clf\", BernoulliNB())\n",
    "])\n",
    "\n",
    "# SVM with RBF kernel\n",
    "pipe_svm = Pipeline([\n",
    "    (\"prep\", preprocessor_std),\n",
    "    (\"clf\", SVC(kernel=\"rbf\", probability=True, random_state=42))\n",
    "])\n",
    "\n",
    "# Random Forest (trees don't need scaling)\n",
    "pre_tf_for_trees = ColumnTransformer(transformers=[\n",
    "    (\"num\", Pipeline([(\"imputer\", SimpleImputer(strategy=\"median\"))]), numeric_cols),\n",
    "    (\"cat\", Pipeline([(\"imputer\", SimpleImputer(strategy=\"most_frequent\")), (\"onehot\", OneHotEncoder(handle_unknown=\"ignore\"))]), categorical_cols),\n",
    "])\n",
    "pipe_rf = Pipeline([\n",
    "    (\"prep\", pre_tf_for_trees),\n",
    "    (\"clf\", RandomForestClassifier(n_estimators=200, random_state=42))\n",
    "])\n",
    "\n",
    "# Decision Tree\n",
    "pipe_dt = Pipeline([\n",
    "    (\"prep\", pre_tf_for_trees),\n",
    "    (\"clf\", DecisionTreeClassifier(random_state=42))\n",
    "])\n"
   ]
  },
  {
   "cell_type": "code",
   "execution_count": 10,
   "id": "5b48a37a-1c79-4305-b94d-54491dabf3a4",
   "metadata": {},
   "outputs": [
    {
     "name": "stdout",
     "output_type": "stream",
     "text": [
      "--- LogisticRegression ---\n",
      "Accuracy:  0.9900   Precision: 0.9949   Recall: 0.9850   F1: 0.9899   ROC-AUC: 0.9997\n",
      "Confusion matrix:\n",
      "[[199   1]\n",
      " [  3 197]]\n",
      "Classification report:\n",
      "              precision    recall  f1-score   support\n",
      "\n",
      "           0       0.99      0.99      0.99       200\n",
      "           1       0.99      0.98      0.99       200\n",
      "\n",
      "    accuracy                           0.99       400\n",
      "   macro avg       0.99      0.99      0.99       400\n",
      "weighted avg       0.99      0.99      0.99       400\n",
      "\n",
      "\n"
     ]
    },
    {
     "data": {
      "text/plain": [
       "['LogisticRegression.joblib']"
      ]
     },
     "execution_count": 10,
     "metadata": {},
     "output_type": "execute_result"
    }
   ],
   "source": [
    "results = []\n",
    "\n",
    "# Logistic Regression\n",
    "pipe_lr.fit(X_train, y_train)\n",
    "results.append(evaluate_model(\"LogisticRegression\", pipe_lr, X_test, y_test))\n",
    "joblib.dump(pipe_lr, \"LogisticRegression.joblib\")\n"
   ]
  },
  {
   "cell_type": "code",
   "execution_count": 11,
   "id": "63022709-8392-4ff1-bbf2-f45ca43aea44",
   "metadata": {},
   "outputs": [
    {
     "name": "stdout",
     "output_type": "stream",
     "text": [
      "--- KNN ---\n",
      "Accuracy:  0.9975   Precision: 1.0000   Recall: 0.9950   F1: 0.9975   ROC-AUC: 1.0000\n",
      "Confusion matrix:\n",
      "[[200   0]\n",
      " [  1 199]]\n",
      "Classification report:\n",
      "              precision    recall  f1-score   support\n",
      "\n",
      "           0       1.00      1.00      1.00       200\n",
      "           1       1.00      0.99      1.00       200\n",
      "\n",
      "    accuracy                           1.00       400\n",
      "   macro avg       1.00      1.00      1.00       400\n",
      "weighted avg       1.00      1.00      1.00       400\n",
      "\n",
      "\n"
     ]
    },
    {
     "data": {
      "text/plain": [
       "['KNN.joblib']"
      ]
     },
     "execution_count": 11,
     "metadata": {},
     "output_type": "execute_result"
    }
   ],
   "source": [
    "# KNN\n",
    "pipe_knn.fit(X_train, y_train)\n",
    "results.append(evaluate_model(\"KNN\", pipe_knn, X_test, y_test))\n",
    "joblib.dump(pipe_knn, \"KNN.joblib\")\n"
   ]
  },
  {
   "cell_type": "code",
   "execution_count": 12,
   "id": "91e4ecd5-4c5f-43e2-be06-f4aa7287c7cb",
   "metadata": {},
   "outputs": [
    {
     "name": "stdout",
     "output_type": "stream",
     "text": [
      "--- GaussianNB ---\n",
      "Accuracy:  0.9625   Precision: 0.9843   Recall: 0.9400   F1: 0.9616   ROC-AUC: 0.9954\n",
      "Confusion matrix:\n",
      "[[197   3]\n",
      " [ 12 188]]\n",
      "Classification report:\n",
      "              precision    recall  f1-score   support\n",
      "\n",
      "           0       0.94      0.98      0.96       200\n",
      "           1       0.98      0.94      0.96       200\n",
      "\n",
      "    accuracy                           0.96       400\n",
      "   macro avg       0.96      0.96      0.96       400\n",
      "weighted avg       0.96      0.96      0.96       400\n",
      "\n",
      "\n"
     ]
    },
    {
     "data": {
      "text/plain": [
       "['GaussianNB.joblib']"
      ]
     },
     "execution_count": 12,
     "metadata": {},
     "output_type": "execute_result"
    }
   ],
   "source": [
    "# GaussianNB\n",
    "pipe_gnb.fit(X_train, y_train)\n",
    "results.append(evaluate_model(\"GaussianNB\", pipe_gnb, X_test, y_test))\n",
    "joblib.dump(pipe_gnb, \"GaussianNB.joblib\")\n"
   ]
  },
  {
   "cell_type": "code",
   "execution_count": 13,
   "id": "7fb653bf-026d-4581-860f-efbe1c5f9a68",
   "metadata": {},
   "outputs": [
    {
     "name": "stdout",
     "output_type": "stream",
     "text": [
      "--- MultinomialNB ---\n",
      "Accuracy:  0.8725   Precision: 0.8706   Recall: 0.8750   F1: 0.8728   ROC-AUC: 0.9520\n",
      "Confusion matrix:\n",
      "[[174  26]\n",
      " [ 25 175]]\n",
      "Classification report:\n",
      "              precision    recall  f1-score   support\n",
      "\n",
      "           0       0.87      0.87      0.87       200\n",
      "           1       0.87      0.88      0.87       200\n",
      "\n",
      "    accuracy                           0.87       400\n",
      "   macro avg       0.87      0.87      0.87       400\n",
      "weighted avg       0.87      0.87      0.87       400\n",
      "\n",
      "\n"
     ]
    },
    {
     "data": {
      "text/plain": [
       "['MultinomialNB.joblib']"
      ]
     },
     "execution_count": 13,
     "metadata": {},
     "output_type": "execute_result"
    }
   ],
   "source": [
    "# MultinomialNB\n",
    "pipe_mnb.fit(X_train, y_train)\n",
    "results.append(evaluate_model(\"MultinomialNB\", pipe_mnb, X_test, y_test))\n",
    "joblib.dump(pipe_mnb, \"MultinomialNB.joblib\")\n"
   ]
  },
  {
   "cell_type": "code",
   "execution_count": 14,
   "id": "73920676-88b8-4e1b-956c-5159c8735d1f",
   "metadata": {},
   "outputs": [
    {
     "name": "stdout",
     "output_type": "stream",
     "text": [
      "--- BernoulliNB ---\n",
      "Accuracy:  0.9250   Precision: 0.9885   Recall: 0.8600   F1: 0.9198   ROC-AUC: 0.9645\n",
      "Confusion matrix:\n",
      "[[198   2]\n",
      " [ 28 172]]\n",
      "Classification report:\n",
      "              precision    recall  f1-score   support\n",
      "\n",
      "           0       0.88      0.99      0.93       200\n",
      "           1       0.99      0.86      0.92       200\n",
      "\n",
      "    accuracy                           0.93       400\n",
      "   macro avg       0.93      0.93      0.92       400\n",
      "weighted avg       0.93      0.93      0.92       400\n",
      "\n",
      "\n"
     ]
    },
    {
     "data": {
      "text/plain": [
       "['BernoulliNB.joblib']"
      ]
     },
     "execution_count": 14,
     "metadata": {},
     "output_type": "execute_result"
    }
   ],
   "source": [
    "# BernoulliNB\n",
    "pipe_bnb.fit(X_train, y_train)\n",
    "results.append(evaluate_model(\"BernoulliNB\", pipe_bnb, X_test, y_test))\n",
    "joblib.dump(pipe_bnb, \"BernoulliNB.joblib\")\n"
   ]
  },
  {
   "cell_type": "code",
   "execution_count": 15,
   "id": "53faa545-eb90-4b6b-b7ea-549f8d6960f9",
   "metadata": {},
   "outputs": [
    {
     "name": "stdout",
     "output_type": "stream",
     "text": [
      "--- SVM_RBF ---\n",
      "Accuracy:  0.9925   Precision: 1.0000   Recall: 0.9850   F1: 0.9924   ROC-AUC: 0.9999\n",
      "Confusion matrix:\n",
      "[[200   0]\n",
      " [  3 197]]\n",
      "Classification report:\n",
      "              precision    recall  f1-score   support\n",
      "\n",
      "           0       0.99      1.00      0.99       200\n",
      "           1       1.00      0.98      0.99       200\n",
      "\n",
      "    accuracy                           0.99       400\n",
      "   macro avg       0.99      0.99      0.99       400\n",
      "weighted avg       0.99      0.99      0.99       400\n",
      "\n",
      "\n"
     ]
    },
    {
     "data": {
      "text/plain": [
       "['SVM_RBF.joblib']"
      ]
     },
     "execution_count": 15,
     "metadata": {},
     "output_type": "execute_result"
    }
   ],
   "source": [
    "# SVM (RBF)\n",
    "pipe_svm.fit(X_train, y_train)\n",
    "results.append(evaluate_model(\"SVM_RBF\", pipe_svm, X_test, y_test))\n",
    "joblib.dump(pipe_svm, \"SVM_RBF.joblib\")\n"
   ]
  },
  {
   "cell_type": "code",
   "execution_count": 16,
   "id": "b60657ff-ec7b-463c-89d3-19c184be6d7c",
   "metadata": {},
   "outputs": [
    {
     "name": "stdout",
     "output_type": "stream",
     "text": [
      "--- RandomForest ---\n",
      "Accuracy:  0.9900   Precision: 1.0000   Recall: 0.9800   F1: 0.9899   ROC-AUC: 0.9999\n",
      "Confusion matrix:\n",
      "[[200   0]\n",
      " [  4 196]]\n",
      "Classification report:\n",
      "              precision    recall  f1-score   support\n",
      "\n",
      "           0       0.98      1.00      0.99       200\n",
      "           1       1.00      0.98      0.99       200\n",
      "\n",
      "    accuracy                           0.99       400\n",
      "   macro avg       0.99      0.99      0.99       400\n",
      "weighted avg       0.99      0.99      0.99       400\n",
      "\n",
      "\n"
     ]
    },
    {
     "data": {
      "text/plain": [
       "['RandomForest.joblib']"
      ]
     },
     "execution_count": 16,
     "metadata": {},
     "output_type": "execute_result"
    }
   ],
   "source": [
    "# Random Forest\n",
    "pipe_rf.fit(X_train, y_train)\n",
    "results.append(evaluate_model(\"RandomForest\", pipe_rf, X_test, y_test))\n",
    "joblib.dump(pipe_rf, \"RandomForest.joblib\")\n"
   ]
  },
  {
   "cell_type": "code",
   "execution_count": 17,
   "id": "16a886e2-663e-43b7-86a2-b10792f6ea60",
   "metadata": {},
   "outputs": [
    {
     "name": "stdout",
     "output_type": "stream",
     "text": [
      "--- DecisionTree ---\n",
      "Accuracy:  0.9900   Precision: 0.9949   Recall: 0.9850   F1: 0.9899   ROC-AUC: 0.9900\n",
      "Confusion matrix:\n",
      "[[199   1]\n",
      " [  3 197]]\n",
      "Classification report:\n",
      "              precision    recall  f1-score   support\n",
      "\n",
      "           0       0.99      0.99      0.99       200\n",
      "           1       0.99      0.98      0.99       200\n",
      "\n",
      "    accuracy                           0.99       400\n",
      "   macro avg       0.99      0.99      0.99       400\n",
      "weighted avg       0.99      0.99      0.99       400\n",
      "\n",
      "\n"
     ]
    },
    {
     "data": {
      "text/plain": [
       "['DecisionTree.joblib']"
      ]
     },
     "execution_count": 17,
     "metadata": {},
     "output_type": "execute_result"
    }
   ],
   "source": [
    "# Decision Tree\n",
    "pipe_dt.fit(X_train, y_train)\n",
    "results.append(evaluate_model(\"DecisionTree\", pipe_dt, X_test, y_test))\n",
    "joblib.dump(pipe_dt, \"DecisionTree.joblib\")\n"
   ]
  },
  {
   "cell_type": "code",
   "execution_count": 18,
   "id": "d747efbc-157f-489f-a5c2-82f05b40db3b",
   "metadata": {},
   "outputs": [
    {
     "data": {
      "text/html": [
       "<div>\n",
       "<style scoped>\n",
       "    .dataframe tbody tr th:only-of-type {\n",
       "        vertical-align: middle;\n",
       "    }\n",
       "\n",
       "    .dataframe tbody tr th {\n",
       "        vertical-align: top;\n",
       "    }\n",
       "\n",
       "    .dataframe thead th {\n",
       "        text-align: right;\n",
       "    }\n",
       "</style>\n",
       "<table border=\"1\" class=\"dataframe\">\n",
       "  <thead>\n",
       "    <tr style=\"text-align: right;\">\n",
       "      <th></th>\n",
       "      <th>model</th>\n",
       "      <th>accuracy</th>\n",
       "      <th>precision</th>\n",
       "      <th>recall</th>\n",
       "      <th>f1</th>\n",
       "      <th>roc_auc</th>\n",
       "    </tr>\n",
       "  </thead>\n",
       "  <tbody>\n",
       "    <tr>\n",
       "      <th>1</th>\n",
       "      <td>KNN</td>\n",
       "      <td>0.9975</td>\n",
       "      <td>1.000000</td>\n",
       "      <td>0.995</td>\n",
       "      <td>0.997494</td>\n",
       "      <td>0.999975</td>\n",
       "    </tr>\n",
       "    <tr>\n",
       "      <th>6</th>\n",
       "      <td>RandomForest</td>\n",
       "      <td>0.9900</td>\n",
       "      <td>1.000000</td>\n",
       "      <td>0.980</td>\n",
       "      <td>0.989899</td>\n",
       "      <td>0.999925</td>\n",
       "    </tr>\n",
       "    <tr>\n",
       "      <th>5</th>\n",
       "      <td>SVM_RBF</td>\n",
       "      <td>0.9925</td>\n",
       "      <td>1.000000</td>\n",
       "      <td>0.985</td>\n",
       "      <td>0.992443</td>\n",
       "      <td>0.999850</td>\n",
       "    </tr>\n",
       "    <tr>\n",
       "      <th>0</th>\n",
       "      <td>LogisticRegression</td>\n",
       "      <td>0.9900</td>\n",
       "      <td>0.994949</td>\n",
       "      <td>0.985</td>\n",
       "      <td>0.989950</td>\n",
       "      <td>0.999750</td>\n",
       "    </tr>\n",
       "    <tr>\n",
       "      <th>2</th>\n",
       "      <td>GaussianNB</td>\n",
       "      <td>0.9625</td>\n",
       "      <td>0.984293</td>\n",
       "      <td>0.940</td>\n",
       "      <td>0.961637</td>\n",
       "      <td>0.995450</td>\n",
       "    </tr>\n",
       "    <tr>\n",
       "      <th>7</th>\n",
       "      <td>DecisionTree</td>\n",
       "      <td>0.9900</td>\n",
       "      <td>0.994949</td>\n",
       "      <td>0.985</td>\n",
       "      <td>0.989950</td>\n",
       "      <td>0.990000</td>\n",
       "    </tr>\n",
       "    <tr>\n",
       "      <th>4</th>\n",
       "      <td>BernoulliNB</td>\n",
       "      <td>0.9250</td>\n",
       "      <td>0.988506</td>\n",
       "      <td>0.860</td>\n",
       "      <td>0.919786</td>\n",
       "      <td>0.964525</td>\n",
       "    </tr>\n",
       "    <tr>\n",
       "      <th>3</th>\n",
       "      <td>MultinomialNB</td>\n",
       "      <td>0.8725</td>\n",
       "      <td>0.870647</td>\n",
       "      <td>0.875</td>\n",
       "      <td>0.872818</td>\n",
       "      <td>0.951950</td>\n",
       "    </tr>\n",
       "  </tbody>\n",
       "</table>\n",
       "</div>"
      ],
      "text/plain": [
       "                model  accuracy  precision  recall        f1   roc_auc\n",
       "1                 KNN    0.9975   1.000000   0.995  0.997494  0.999975\n",
       "6        RandomForest    0.9900   1.000000   0.980  0.989899  0.999925\n",
       "5             SVM_RBF    0.9925   1.000000   0.985  0.992443  0.999850\n",
       "0  LogisticRegression    0.9900   0.994949   0.985  0.989950  0.999750\n",
       "2          GaussianNB    0.9625   0.984293   0.940  0.961637  0.995450\n",
       "7        DecisionTree    0.9900   0.994949   0.985  0.989950  0.990000\n",
       "4         BernoulliNB    0.9250   0.988506   0.860  0.919786  0.964525\n",
       "3       MultinomialNB    0.8725   0.870647   0.875  0.872818  0.951950"
      ]
     },
     "metadata": {},
     "output_type": "display_data"
    },
    {
     "data": {
      "image/png": "[encoded data removed]",
      "text/plain": [
       "<Figure size 1000x500 with 1 Axes>"
      ]
     },
     "metadata": {},
     "output_type": "display_data"
    },
    {
     "name": "stdout",
     "output_type": "stream",
     "text": [
      "Saved metrics_summary.csv and all joblib models in current folder.\n"
     ]
    }
   ],
   "source": [
    "metrics_df = pd.DataFrame(results).sort_values(\"roc_auc\", ascending=False)\n",
    "display(metrics_df)\n",
    "\n",
    "# simple ROC-AUC bar plot\n",
    "plt.figure(figsize=(10,5))\n",
    "plt.bar(metrics_df['model'], metrics_df['roc_auc'])\n",
    "plt.ylabel(\"ROC-AUC\")\n",
    "plt.xlabel(\"Model\")\n",
    "plt.title(\"ROC-AUC by Model (test set)\")\n",
    "plt.xticks(rotation=30, ha='right')\n",
    "plt.tight_layout()\n",
    "plt.show()\n",
    "\n",
    "# save summary\n",
    "metrics_df.to_csv(\"metrics_summary.csv\", index=False)\n",
    "print(\"Saved metrics_summary.csv and all joblib models in current folder.\")\n"
   ]
  },
  {
   "cell_type": "code",
   "execution_count": null,
   "id": "b84706b5-c014-4d7e-8368-dfc41e8997e8",
   "metadata": {},
   "outputs": [],
   "source": []
  },
  {
   "cell_type": "code",
   "execution_count": null,
   "id": "424afe42-d36c-41b3-a7ea-a597e24359f6",
   "metadata": {},
   "outputs": [],
   "source": []
  }
 ],
 "metadata": {
  "kernelspec": {
   "display_name": "Python 3 (ipykernel)",
   "language": "python",
   "name": "python3"
  },
  "language_info": {
   "codemirror_mode": {
    "name": "ipython",
    "version": 3
   },
   "file_extension": ".py",
   "mimetype": "text/x-python",
   "name": "python",
   "nbconvert_exporter": "python",
   "pygments_lexer": "ipython3",
   "version": "3.12.4"
  }
 },
 "nbformat": 4,
 "nbformat_minor": 5
}
